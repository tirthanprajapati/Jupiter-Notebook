{
 "cells": [
  {
   "cell_type": "code",
   "execution_count": 1,
   "id": "50a20cf3",
   "metadata": {},
   "outputs": [
    {
     "name": "stdout",
     "output_type": "stream",
     "text": [
      "Hello World\n"
     ]
    }
   ],
   "source": [
    "print(\"Hello World\")"
   ]
  },
  {
   "cell_type": "code",
   "execution_count": 2,
   "id": "543aca2f",
   "metadata": {},
   "outputs": [],
   "source": [
    "# we can run singlr single lines here to know more about the errors"
   ]
  },
  {
   "cell_type": "code",
   "execution_count": 3,
   "id": "cba762f6",
   "metadata": {},
   "outputs": [],
   "source": [
    "#  each block can have multiple lines like this one\n",
    "#  1.\n",
    "#  2.\n",
    "#  3.\n",
    "#  4."
   ]
  },
  {
   "cell_type": "code",
   "execution_count": 5,
   "id": "b7529df2",
   "metadata": {},
   "outputs": [
    {
     "name": "stdout",
     "output_type": "stream",
     "text": [
      "5 X  0  =  0\n",
      "5 X  1  =  5\n",
      "5 X  2  =  10\n",
      "5 X  3  =  15\n",
      "5 X  4  =  20\n",
      "5 X  5  =  25\n",
      "5 X  6  =  30\n",
      "5 X  7  =  35\n",
      "5 X  8  =  40\n",
      "5 X  9  =  45\n",
      "5 X  10  =  50\n"
     ]
    }
   ],
   "source": [
    "for i in range(0,11):\n",
    "    print(\"5 X \",i,\" = \",5*i)"
   ]
  },
  {
   "cell_type": "code",
   "execution_count": 6,
   "id": "75667e85",
   "metadata": {},
   "outputs": [
    {
     "name": "stdout",
     "output_type": "stream",
     "text": [
      "10\n"
     ]
    }
   ],
   "source": [
    "print(i)"
   ]
  },
  {
   "cell_type": "code",
   "execution_count": 9,
   "id": "265bc3e1",
   "metadata": {},
   "outputs": [
    {
     "name": "stdout",
     "output_type": "stream",
     "text": [
      "50\n"
     ]
    }
   ],
   "source": [
    "print(i*5)"
   ]
  },
  {
   "cell_type": "code",
   "execution_count": null,
   "id": "401d6329",
   "metadata": {},
   "outputs": [],
   "source": []
  }
 ],
 "metadata": {
  "kernelspec": {
   "display_name": "Python 3 (ipykernel)",
   "language": "python",
   "name": "python3"
  },
  "language_info": {
   "codemirror_mode": {
    "name": "ipython",
    "version": 3
   },
   "file_extension": ".py",
   "mimetype": "text/x-python",
   "name": "python",
   "nbconvert_exporter": "python",
   "pygments_lexer": "ipython3",
   "version": "3.9.7"
  }
 },
 "nbformat": 4,
 "nbformat_minor": 5
}
